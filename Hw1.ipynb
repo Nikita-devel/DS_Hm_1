{
  "nbformat": 4,
  "nbformat_minor": 0,
  "metadata": {
    "colab": {
      "provenance": [],
      "authorship_tag": "ABX9TyMLK6D/6EfwP2X8q5hG1FGV",
      "include_colab_link": true
    },
    "kernelspec": {
      "name": "python3",
      "display_name": "Python 3"
    },
    "language_info": {
      "name": "python"
    }
  },
  "cells": [
    {
      "cell_type": "markdown",
      "metadata": {
        "id": "view-in-github",
        "colab_type": "text"
      },
      "source": [
        "<a href=\"https://colab.research.google.com/github/Nikita-devel/GoIT_Data_Science/blob/main/Hw1.ipynb\" target=\"_parent\"><img src=\"https://colab.research.google.com/assets/colab-badge.svg\" alt=\"Open In Colab\"/></a>"
      ]
    },
    {
      "cell_type": "code",
      "execution_count": 1,
      "metadata": {
        "id": "Z-b1eVQ9oe5B"
      },
      "outputs": [],
      "source": [
        "import numpy as np"
      ]
    },
    {
      "cell_type": "code",
      "source": [
        "#1\n",
        "a = np.arange(1, 11)\n",
        "print(a)"
      ],
      "metadata": {
        "colab": {
          "base_uri": "https://localhost:8080/"
        },
        "id": "IVzz8VEbok6P",
        "outputId": "a74e4c36-f885-4991-a32d-6c8892aa11a0"
      },
      "execution_count": 33,
      "outputs": [
        {
          "output_type": "stream",
          "name": "stdout",
          "text": [
            "[ 1  2  3  4  5  6  7  8  9 10]\n"
          ]
        }
      ]
    },
    {
      "cell_type": "code",
      "source": [
        "#2\n",
        "a_zero = np.zeros((3, 3), dtype=float)\n",
        "print(a_zero)"
      ],
      "metadata": {
        "colab": {
          "base_uri": "https://localhost:8080/"
        },
        "id": "0tUVLIxcpbvb",
        "outputId": "a07279c0-2991-41b7-8e4a-087aa30e72a8"
      },
      "execution_count": 34,
      "outputs": [
        {
          "output_type": "stream",
          "name": "stdout",
          "text": [
            "[[0. 0. 0.]\n",
            " [0. 0. 0.]\n",
            " [0. 0. 0.]]\n"
          ]
        }
      ]
    },
    {
      "cell_type": "code",
      "source": [
        "#3\n",
        "a_rand_z = np.random.randint(1, 11, size=(5, 5))\n",
        "print(a_rand_z)"
      ],
      "metadata": {
        "colab": {
          "base_uri": "https://localhost:8080/"
        },
        "id": "ZroItM43pwl2",
        "outputId": "7e0ef47d-a85c-49c2-97d8-3e3600abe42c"
      },
      "execution_count": 35,
      "outputs": [
        {
          "output_type": "stream",
          "name": "stdout",
          "text": [
            "[[ 3  4  6  1  7]\n",
            " [ 3  9  3  9  3]\n",
            " [10  1  8  3  9]\n",
            " [ 2  5  4 10  1]\n",
            " [ 8 10  6  7  6]]\n"
          ]
        }
      ]
    },
    {
      "cell_type": "code",
      "source": [
        "#4\n",
        "a_rand_c = np.random.random(size=(5, 5))\n",
        "print(a_rand_c)"
      ],
      "metadata": {
        "colab": {
          "base_uri": "https://localhost:8080/"
        },
        "id": "P3sRom7Grg3A",
        "outputId": "09bd4597-e143-4089-b51f-dd96b905dffb"
      },
      "execution_count": 36,
      "outputs": [
        {
          "output_type": "stream",
          "name": "stdout",
          "text": [
            "[[0.1765658  0.20854794 0.09653471 0.99238607 0.07035901]\n",
            " [0.04881201 0.52288302 0.88591937 0.42222893 0.01955472]\n",
            " [0.0302738  0.45677832 0.24280776 0.7202932  0.42840626]\n",
            " [0.94560927 0.91797405 0.88652147 0.87486448 0.72080839]\n",
            " [0.54096958 0.66549756 0.73551942 0.22537191 0.22606186]]\n"
          ]
        }
      ]
    },
    {
      "cell_type": "code",
      "source": [
        "#5\n",
        "a_rand = np.random.randint(1, 10, size=(5))\n",
        "b_rand = np.random.randint(1, 10, size=(5))\n",
        "print(a_rand)\n",
        "print(b_rand)\n",
        "print(a_rand + b_rand)\n",
        "print(b_rand - a_rand)\n",
        "print(a_rand * b_rand)"
      ],
      "metadata": {
        "colab": {
          "base_uri": "https://localhost:8080/"
        },
        "id": "GU2eD0C-sGfB",
        "outputId": "b014b7de-3074-48fc-c90a-e67c955a5f11"
      },
      "execution_count": 20,
      "outputs": [
        {
          "output_type": "stream",
          "name": "stdout",
          "text": [
            "[7 8 2 2 6]\n",
            "[2 1 7 8 4]\n",
            "[ 9  9  9 10 10]\n",
            "[-5 -7  5  6 -2]\n",
            "[14  8 14 16 24]\n"
          ]
        }
      ]
    },
    {
      "cell_type": "code",
      "source": [
        "#6\n",
        "a_rand7 = np.random.rand(7)\n",
        "b_rand7 = np.random.rand(7)\n",
        "res = np.dot(a_rand7, b_rand7)\n",
        "print(a_rand7)\n",
        "print(b_rand7)\n",
        "print(res)"
      ],
      "metadata": {
        "colab": {
          "base_uri": "https://localhost:8080/"
        },
        "id": "yaElwr4UtOq8",
        "outputId": "c4aaa101-fb3a-4819-cccd-975ad37c9ec1"
      },
      "execution_count": 24,
      "outputs": [
        {
          "output_type": "stream",
          "name": "stdout",
          "text": [
            "[0.80643601 0.83849158 0.80840911 0.24675328 0.63471949 0.34999536\n",
            " 0.34476986]\n",
            "[0.75360071 0.04179112 0.94193993 0.48727428 0.48593663 0.90732006\n",
            " 0.14810429]\n",
            "2.2015347525561264\n"
          ]
        }
      ]
    },
    {
      "cell_type": "code",
      "source": [
        "#7\n",
        "a_rand22 = np.random.randint(1, 11, size=(2, 2))\n",
        "b_rand23 = np.random.randint(1, 11, size=(2, 3))\n",
        "res_ab = np.dot(a_rand22, b_rand23)\n",
        "print(a_rand22)\n",
        "print(b_rand23)\n",
        "print(res_ab)"
      ],
      "metadata": {
        "colab": {
          "base_uri": "https://localhost:8080/"
        },
        "id": "GdEbT0RCwD9f",
        "outputId": "4706d0b6-535a-4181-f776-5310a5ddd4d3"
      },
      "execution_count": 29,
      "outputs": [
        {
          "output_type": "stream",
          "name": "stdout",
          "text": [
            "[[2 9]\n",
            " [2 7]]\n",
            "[[10  9  6]\n",
            " [ 8  7  7]]\n",
            "[[92 81 75]\n",
            " [76 67 61]]\n"
          ]
        }
      ]
    },
    {
      "cell_type": "code",
      "source": [
        "#8\n",
        "or_a = np.random.randint(1, 11, size=(2, 2))\n",
        "a_inv = np.linalg.inv(or_a)\n",
        "print(or_a)\n",
        "print(a_inv)"
      ],
      "metadata": {
        "colab": {
          "base_uri": "https://localhost:8080/"
        },
        "id": "jJfVgQSyw_EM",
        "outputId": "1b4f1248-74f5-42b9-c029-eed9808a24ef"
      },
      "execution_count": 32,
      "outputs": [
        {
          "output_type": "stream",
          "name": "stdout",
          "text": [
            "[[ 2 10]\n",
            " [ 8 10]]\n",
            "[[-0.16666667  0.16666667]\n",
            " [ 0.13333333 -0.03333333]]\n"
          ]
        }
      ]
    },
    {
      "cell_type": "code",
      "source": [
        "#9\n",
        "or44_a = np.random.rand(4, 4)\n",
        "or44_a_t = or44_a.T\n",
        "print(or44_a)\n",
        "print(or44_a_t)"
      ],
      "metadata": {
        "colab": {
          "base_uri": "https://localhost:8080/"
        },
        "id": "eMx2FeCYxmc5",
        "outputId": "dc580d2d-bc82-4d03-d052-bcb4762b1ccf"
      },
      "execution_count": 40,
      "outputs": [
        {
          "output_type": "stream",
          "name": "stdout",
          "text": [
            "[[0.55167033 0.57870618 0.79870796 0.33391375]\n",
            " [0.79920968 0.94501118 0.58429731 0.5321488 ]\n",
            " [0.71542002 0.56433833 0.07154574 0.35519732]\n",
            " [0.61466735 0.38866901 0.33198667 0.94126096]]\n",
            "[[0.55167033 0.79920968 0.71542002 0.61466735]\n",
            " [0.57870618 0.94501118 0.56433833 0.38866901]\n",
            " [0.79870796 0.58429731 0.07154574 0.33198667]\n",
            " [0.33391375 0.5321488  0.35519732 0.94126096]]\n"
          ]
        }
      ]
    },
    {
      "cell_type": "code",
      "source": [
        "#10\n",
        "a = np.random.randint(1, 11, size=(3, 4))\n",
        "b = np.random.randint(1, 11, size=4)\n",
        "c = np.dot(a, b)\n",
        "print(a)\n",
        "print(b)\n",
        "print(c)"
      ],
      "metadata": {
        "colab": {
          "base_uri": "https://localhost:8080/"
        },
        "id": "sB48mDURyGys",
        "outputId": "6af5e257-e8d7-49df-c231-d20c56cda411"
      },
      "execution_count": 49,
      "outputs": [
        {
          "output_type": "stream",
          "name": "stdout",
          "text": [
            "[[4 9 4 2]\n",
            " [3 5 2 5]\n",
            " [9 8 4 6]]\n",
            "[9 4 8 3]\n",
            "[110  78 163]\n"
          ]
        }
      ]
    },
    {
      "cell_type": "code",
      "source": [
        "#11\n",
        "a = np.random.rand(2, 3)\n",
        "b = np.random.rand(3)\n",
        "c = np.dot(a, b)\n",
        "print(a)\n",
        "print(b)\n",
        "print(c)"
      ],
      "metadata": {
        "colab": {
          "base_uri": "https://localhost:8080/"
        },
        "id": "l16dBe3iy2m3",
        "outputId": "a8915874-482b-444f-b30b-4e46ba849c7b"
      },
      "execution_count": 48,
      "outputs": [
        {
          "output_type": "stream",
          "name": "stdout",
          "text": [
            "[[0.59779502 0.01809146 0.09219456]\n",
            " [0.87651822 0.87193095 0.40282601]]\n",
            "[0.33138597 0.46086005 0.69430278]\n",
            "[0.27044945 0.9719872 ]\n"
          ]
        }
      ]
    },
    {
      "cell_type": "code",
      "source": [
        "#12\n",
        "a = np.random.randint(1, 11, size=(2, 2))\n",
        "b = np.random.randint(1, 11, size=(2, 2))\n",
        "c = a * b\n",
        "print(a)\n",
        "print(b)\n",
        "print(c)"
      ],
      "metadata": {
        "colab": {
          "base_uri": "https://localhost:8080/"
        },
        "id": "ohkWHnNJzX_c",
        "outputId": "e9f8aa6e-f793-44e5-88aa-ddd9f8b2ec8c"
      },
      "execution_count": 50,
      "outputs": [
        {
          "output_type": "stream",
          "name": "stdout",
          "text": [
            "[[8 5]\n",
            " [7 4]]\n",
            "[[6 3]\n",
            " [9 1]]\n",
            "[[48 15]\n",
            " [63  4]]\n"
          ]
        }
      ]
    },
    {
      "cell_type": "code",
      "source": [
        "#13\n",
        "a = np.random.randint(1, 11, size=(2, 2))\n",
        "b = np.random.randint(1, 11, size=(2, 2))\n",
        "c = np.dot(a, b)\n",
        "print(a)\n",
        "print(b)\n",
        "print(c)"
      ],
      "metadata": {
        "colab": {
          "base_uri": "https://localhost:8080/"
        },
        "id": "U-nsKEmozsCX",
        "outputId": "98b24152-284c-4eda-ae0b-06271bfab6e7"
      },
      "execution_count": 51,
      "outputs": [
        {
          "output_type": "stream",
          "name": "stdout",
          "text": [
            "[[ 9  6]\n",
            " [ 9 10]]\n",
            "[[4 5]\n",
            " [7 3]]\n",
            "[[ 78  63]\n",
            " [106  75]]\n"
          ]
        }
      ]
    },
    {
      "cell_type": "code",
      "source": [
        "#14\n",
        "a = np.random.randint(1, 101, size=(5, 5))\n",
        "\n",
        "print(a)\n",
        "print(a.sum())"
      ],
      "metadata": {
        "colab": {
          "base_uri": "https://localhost:8080/"
        },
        "id": "KAfxwgdn0UIv",
        "outputId": "a859dbfc-caa9-4450-c468-a7c979534569"
      },
      "execution_count": 55,
      "outputs": [
        {
          "output_type": "stream",
          "name": "stdout",
          "text": [
            "[[58 81 99 86 99]\n",
            " [65 58 37 40 38]\n",
            " [97 16  4  3 31]\n",
            " [28 48 32  9 72]\n",
            " [13  1 84  1 26]]\n",
            "1126\n"
          ]
        }
      ]
    },
    {
      "cell_type": "code",
      "source": [
        "#15\n",
        "a = np.random.randint(1, 11, size=(4, 4))\n",
        "b = np.random.randint(1, 11, size=(4, 4))\n",
        "c = a - b\n",
        "print(a)\n",
        "print(b)\n",
        "print(c)"
      ],
      "metadata": {
        "colab": {
          "base_uri": "https://localhost:8080/"
        },
        "id": "b2JPu6YD0uGj",
        "outputId": "82eb8725-4774-4748-81f8-4ffdbd82e3aa"
      },
      "execution_count": 56,
      "outputs": [
        {
          "output_type": "stream",
          "name": "stdout",
          "text": [
            "[[ 3 10  1  8]\n",
            " [ 6  2  9  6]\n",
            " [ 1  9 10  5]\n",
            " [ 7  9  7  2]]\n",
            "[[ 6  4  8 10]\n",
            " [ 6  5  6  5]\n",
            " [ 8  1  3  6]\n",
            " [ 6  3  5  7]]\n",
            "[[-3  6 -7 -2]\n",
            " [ 0 -3  3  1]\n",
            " [-7  8  7 -1]\n",
            " [ 1  6  2 -5]]\n"
          ]
        }
      ]
    },
    {
      "cell_type": "code",
      "source": [
        "#16\n",
        "a = np.random.rand(3, 3)\n",
        "column_sum = np.sum(a, axis=1, keepdims=True)\n",
        "print(a)\n",
        "print(column_sum)\n",
        "print(a.sum())"
      ],
      "metadata": {
        "colab": {
          "base_uri": "https://localhost:8080/"
        },
        "id": "EBsUB-eh1CIO",
        "outputId": "81919f34-b00a-4450-ec26-fd22b6b1ab10"
      },
      "execution_count": 57,
      "outputs": [
        {
          "output_type": "stream",
          "name": "stdout",
          "text": [
            "[[0.42274589 0.33788383 0.54694712]\n",
            " [0.72785692 0.25338602 0.79924637]\n",
            " [0.1851733  0.09456098 0.57203973]]\n",
            "[[1.30757685]\n",
            " [1.78048931]\n",
            " [0.85177401]]\n",
            "3.9398401727729944\n"
          ]
        }
      ]
    },
    {
      "cell_type": "markdown",
      "source": [
        " 16. Створіть матрицю розміром 3x3, заповніть її випадковими дійсними числами в діапазоні від 0 до 1 та знайдіть вектор-стовпчик, що містить суму елементів кожного рядка матриці."
      ],
      "metadata": {
        "id": "b29kNCZH3zUY"
      }
    },
    {
      "cell_type": "code",
      "source": [
        "#17\n",
        "a = np.random.randint(1, 11, size=(3, 4))\n",
        "square_a = np.square(a)\n",
        "print(a)\n",
        "print(square_a)"
      ],
      "metadata": {
        "colab": {
          "base_uri": "https://localhost:8080/"
        },
        "id": "utxNcyCf3-6T",
        "outputId": "6c049364-3f39-40c6-8b53-be7d0e0ec824"
      },
      "execution_count": 59,
      "outputs": [
        {
          "output_type": "stream",
          "name": "stdout",
          "text": [
            "[[8 3 8 3]\n",
            " [8 5 4 9]\n",
            " [6 7 2 7]]\n",
            "[[64  9 64  9]\n",
            " [64 25 16 81]\n",
            " [36 49  4 49]]\n"
          ]
        }
      ]
    },
    {
      "cell_type": "code",
      "source": [
        "a = np.random.randint(1, 51, size=4)\n",
        "sqrt_a = np.sqrt(a)\n",
        "print(a)\n",
        "print(sqrt_a)"
      ],
      "metadata": {
        "colab": {
          "base_uri": "https://localhost:8080/"
        },
        "id": "z9mEptcg4l7r",
        "outputId": "d6bade48-8cfe-4431-dcc9-d77c0fe71864"
      },
      "execution_count": 60,
      "outputs": [
        {
          "output_type": "stream",
          "name": "stdout",
          "text": [
            "[17  6 15 14]\n",
            "[4.12310563 2.44948974 3.87298335 3.74165739]\n"
          ]
        }
      ]
    }
  ]
}
